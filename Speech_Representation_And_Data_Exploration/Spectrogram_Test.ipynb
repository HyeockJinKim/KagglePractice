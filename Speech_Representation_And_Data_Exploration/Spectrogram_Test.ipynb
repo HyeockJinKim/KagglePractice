{
 "cells": [
  {
   "cell_type": "code",
   "execution_count": null,
   "metadata": {},
   "outputs": [],
   "source": [
    "import os\n",
    "from os.path import isdir, join\n",
    "from pathlib import Path\n",
    "import pandas as pd\n",
    "\n",
    "#Math\n",
    "import numpy as np\n",
    "from scipy.fftpack import fft\n",
    "from scipy import signal\n",
    "from scipy.io import wavfile\n",
    "import librosa\n",
    "\n",
    "from sklearn.decomposition import PCA\n",
    "\n",
    "#Visualization\n",
    "import matplotlib.pyplot as plt\n",
    "import seaborn as sns\n",
    "import IPython.display as ipd\n",
    "import librosa.display\n",
    "\n",
    "import plotly.offline as py\n",
    "py.init_notebook_mode(connected=True)\n",
    "import plotly.graph_objs as go\n",
    "import plotly.tools as tls\n",
    "\n",
    "%matplotlib inline"
   ]
  },
  {
   "cell_type": "code",
   "execution_count": null,
   "metadata": {},
   "outputs": [],
   "source": [
    "train_audio_path = 'dataSets/hello/'\n",
    "filename_Before =  'Before.wav'\n",
    "filename_After = 'After.wav'\n",
    "sample_rate_B, samples_B = wavfile.read(str(train_audio_path) + filename_Before)\n",
    "sample_rate_A, samples_A = wavfile.read(str(train_audio_path) + filename_After)"
   ]
  },
  {
   "cell_type": "code",
   "execution_count": null,
   "metadata": {},
   "outputs": [],
   "source": [
    "#로그 스펙트로그램을 계산하는 함수\n",
    "def log_specgram(audio, sample_rate, window_size=20, step_size = 10,\n",
    "                eps = 1e-10):\n",
    "    nperseg = int(round(window_size * sample_rate / 1e3))\n",
    "    noverlap = int(round(step_size * sample_rate / 1e3))\n",
    "    #연속 푸리에 변환을 해 스펙트로그램을 계산하는 함수\n",
    "    freqs, times, spec = signal.spectrogram(audio,\n",
    "                                           fs = sample_rate,\n",
    "                                           window='hann',\n",
    "                                            #여기 윈도우 매개변수에 들어간 부분이\n",
    "                                            #window function들 중에 하나이다.\n",
    "                                            #시가눅에서 Window Function을 곱하는 것은, 주파수 축에서 Filtering이라고 한단다. \n",
    "                                            #Window의 주파수 스펙트럼을, 원래 입력 신호의 주파수 스펙트럼과 convolution해서 조금 더 부드럽고\n",
    "                                            #side lobe가 사라진 주파수 스펙트럼을 만들 수 있다. But 단점으로는 Main lobe가 두꺼워진다는 점.\n",
    "                                            #Cosine, Raised Cosine, Hamming, Hanning, Blackman, Triangular, Gaussian 등이 있다.\n",
    "                                           nperseg = nperseg,\n",
    "                                            \n",
    "                                           noverlap=noverlap,\n",
    "                                            #각 윈도우들을 겹치게 할지를 결정하는 매개변수\n",
    "                                           detrend=False)\n",
    "    return freqs, times, np.log(spec.T.astype(np.float32) + eps)"
   ]
  },
  {
   "cell_type": "code",
   "execution_count": null,
   "metadata": {},
   "outputs": [],
   "source": [
    "#나이퀴스트 이론에 따라 주파수가 8000Hz니까 샘플링 레이트는 2배인 16000으로 잡아준다.\n",
    "print(\"Before Sample_rate : \" + str(sample_rate_B))\n",
    "print(\"After Sample_rate : \" + str(sample_rate_A))\n"
   ]
  },
  {
   "cell_type": "code",
   "execution_count": null,
   "metadata": {},
   "outputs": [],
   "source": [
    "#Sample에는 \n",
    "#data : numpy array\n",
    "#Data read from wav file.  Data-type is determined from the file;\n",
    "#see Notes.\n",
    "#라고 나와있는데 웨이브 파일에 대한 데이터라고 한다. 타입은 PCM 별로 값의 범위가 달라짐.\n",
    "#정확하겐 모르겠으니 이론책을 참고한 후 다시 확인해봐야겠다.\n",
    "print(\"Before Samples : \" + str(samples_B))\n",
    "print(\"After Samples: \" + str(samples_A))"
   ]
  },
  {
   "cell_type": "code",
   "execution_count": null,
   "metadata": {},
   "outputs": [],
   "source": [
    "#Sample의 demension을 확인해보니 16000개가 나온다. Sample_rate만큼 wav파일을\n",
    "#자르는거같은데 정확하게는 잘모르겠다. Sampling_rate만큼인지, 단위가 따로 있는지\n",
    "#더 알아봐야 할듯.\n",
    "c =np.shape(samples)\n",
    "c"
   ]
  },
  {
   "cell_type": "code",
   "execution_count": null,
   "metadata": {},
   "outputs": [],
   "source": [
    "#이전의 예제에서는 160개의 특장들로 각각의 프레임에 대해 매칭을 했는데 0~8000Hz범위를 160개의\n",
    "#특징으로 매핑하면 50Hz당 1개의 특징이 할당이 된다. 하지만 우리의 귀는 1000~2000Hz 범위에서\n",
    "#3.6Hz라는 해상력(더 소리를 미세하게 구분한다는 의미인듯)을 가지기 때문에 사람이 실제로 듣는 것을\n",
    "#모방하rldnlgo MFCC라는 것을 알아보자.\n",
    "# From this tutorial\n",
    "# https://github.com/librosa/librosa/blob/master/examples/LibROSA%20demo.ipynb\n",
    "S_B = librosa.feature.melspectrogram(samples_B, sr = sample_rate_B, n_mels=128)\n",
    "S_A = librosa.feature.melspectrogram(samples_A, sr = sample_rate_A, n_mels=128)\n",
    "#melspectrogram은 Mel scale(log를 취한)로 스펙트로그램을 구한다. \n",
    "\n",
    "# Convert to log scale (dB). We'll use the peak power (max) as reference.\n",
    "log_S_B = librosa.power_to_db(S_B, ref = np.max)\n",
    "log_S_A = librosa.power_to_db(S_A, ref = np.max)\n",
    "\n",
    "#Power spectrogram(S)를 데시벨 유닛으로 변경한다. (log 취한다.) 데시벨자체가\n",
    "#소리 세기의 비를 상용로그 취한 후 10을 곱한 값.(사람이 귀로 들을 수 있는 가장 작은 소리가 0DB)\n",
    "\n",
    "plt.figure(figsize = (12,4))\n",
    "librosa.display.specshow(log_S, sr= sample_rate, x_axis='time', y_axis = 'mel')\n",
    "plt.title('Mel power spectrogram ')\n",
    "plt.colorbar(format='%+02.0f dB')\n",
    "plt.tight_layout()"
   ]
  },
  {
   "cell_type": "code",
   "execution_count": null,
   "metadata": {},
   "outputs": [],
   "source": [
    "#주파수, 시간, 스펙트로그램을 Sample들과, Sample_Rate에 대해 값들을 계산한다.\n",
    "freqs_B, times_B, spectrogram_B = log_specgram(samples_B, sample_rate_B)\n",
    "freqs_A, times_A, spectrogram_A = log_specgram(samples_A, sample_rate_A)\n",
    "\n",
    "fig = plt.figure(figsize=(14,8))\n",
    "ax1 = fig.add_subplot(211)\n",
    "ax1.set_title('Raw wave of ' + filename_Before)\n",
    "ax1.set_ylabel('Amplitude')\n",
    "ax1.plot(np.linspace(0, sample_rate_B/len(samples_B), 4*sample_rate_B), samples_B)\n",
    "\n",
    "ax2 = fig.add_subplot(212)\n",
    "ax2.imshow(spectrogram_B.T, aspect='auto', origin='lower',\n",
    "          extent=[times_B.min(), times_B.max(), freqs_B.min(), freqs_B.max()])\n",
    "ax2.set_yticks(freqs_B[::16])\n",
    "ax2.set_xticks(times_B[::16])\n",
    "ax2.set_title('Spectrogram of ' + filename_Before)\n",
    "ax2.set_ylabel('Freqs in Hz')\n",
    "ax2.set_xlabel('Seconds')\n",
    "\n",
    "plt.figure(figsize = (12,4))\n",
    "librosa.display.specshow(log_S_B, sr= sample_rate_B, x_axis='time', y_axis = 'mel')\n",
    "plt.title('Mel power spectrogram ')\n",
    "plt.colorbar(format='%+02.0f dB')\n",
    "plt.tight_layout()\n",
    "\n",
    "\n",
    "fig2 = plt.figure(figsize=(14,8))\n",
    "ax3 = fig2.add_subplot(211)\n",
    "ax3.set_title('Raw wave of ' + filename_After)\n",
    "ax3.set_ylabel('Amplitude')\n",
    "ax3.plot(np.linspace(0, sample_rate_A/len(samples_A), 4*sample_rate_A), samples_A)\n",
    "\n",
    "ax4 = fig2.add_subplot(212)\n",
    "ax4.imshow(spectrogram_A.T, aspect='auto', origin='lower',\n",
    "          extent=[times_A.min(), times_A.max(), freqs_A.min(), freqs_A.max()])\n",
    "ax4.set_yticks(freqs_A[::16])\n",
    "ax4.set_xticks(times_A[::16])\n",
    "ax4.set_title('Spectrogram of ' + filename_After)\n",
    "ax4.set_ylabel('Freqs in Hz')\n",
    "ax4.set_xlabel('Seconds')\n",
    "\n",
    "plt.figure(figsize = (12,4))\n",
    "librosa.display.specshow(log_S_A, sr= sample_rate_A, x_axis='time', y_axis = 'mel')\n",
    "plt.title('Mel power spectrogram ')\n",
    "plt.colorbar(format='%+02.0f dB')\n",
    "plt.tight_layout()\n"
   ]
  },
  {
   "cell_type": "code",
   "execution_count": null,
   "metadata": {},
   "outputs": [],
   "source": []
  }
 ],
 "metadata": {
  "kernelspec": {
   "display_name": "Python 3",
   "language": "python",
   "name": "python3"
  },
  "language_info": {
   "codemirror_mode": {
    "name": "ipython",
    "version": 3
   },
   "file_extension": ".py",
   "mimetype": "text/x-python",
   "name": "python",
   "nbconvert_exporter": "python",
   "pygments_lexer": "ipython3",
   "version": "3.5.2"
  }
 },
 "nbformat": 4,
 "nbformat_minor": 2
}
